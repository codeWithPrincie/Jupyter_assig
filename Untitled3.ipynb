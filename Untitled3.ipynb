{
 "cells": [
  {
   "cell_type": "code",
   "execution_count": 14,
   "id": "6d28238d",
   "metadata": {},
   "outputs": [
    {
     "name": "stdout",
     "output_type": "stream",
     "text": [
      "olleh\n",
      "dlroW\n"
     ]
    }
   ],
   "source": [
    "# Write a function reverse_string(s) that takes a string s and returns the string reversed.\n",
    "\n",
    "# assert reverse_string(\"hello\") == \"olleh\"\n",
    "# assert reverse_string(\"world\") == \"dlrow\"\n",
    "# assert reverse_string(\"\") == \"\"\n",
    "# assert reverse_string(\"a\") == \"a\"\n",
    "\n",
    "def reverse_string(s):\n",
    "    return s[::-1]\n",
    "\n",
    "print(reverse_string(\"hello\"))\n",
    "print(reverse_string(\"World\"))"
   ]
  },
  {
   "cell_type": "code",
   "execution_count": 26,
   "id": "f0a3a52c",
   "metadata": {},
   "outputs": [
    {
     "name": "stdout",
     "output_type": "stream",
     "text": [
      "False\n",
      "True\n",
      "False\n",
      "True\n"
     ]
    }
   ],
   "source": [
    "# Write a function is_palindrome(s) that checks if a given string s is a palindrome.\n",
    "\n",
    "# assert is_palindrome(\"racecar\") == True\n",
    "# assert is_palindrome(\"hello\") == False\n",
    "# assert is_palindrome(\"madam\") == True\n",
    "# assert is_palindrome(\"a\") == True\n",
    "# assert is_palindrome(\"ab\") == False\n",
    "\n",
    "def is_palindrome(s):\n",
    "    return s==s[::-1]\n",
    "\n",
    "print(is_palindrome(\"hello\"))\n",
    "print(is_palindrome('madam'))\n",
    "print(is_palindrome('sir'))\n",
    "print(is_palindrome('racecar'))"
   ]
  },
  {
   "cell_type": "code",
   "execution_count": 33,
   "id": "06fea233",
   "metadata": {},
   "outputs": [
    {
     "name": "stdout",
     "output_type": "stream",
     "text": [
      "[0, 1, 1, 2, 3, 5]\n",
      "[0, 1, 1, 2, 3, 5, 8, 13, 21, 34]\n"
     ]
    }
   ],
   "source": [
    "# Write a function fibonacci(n) that returns the first n numbers in the Fibonacci sequence.\n",
    "\n",
    "# assert fibonacci(1) == [0]\n",
    "# assert fibonacci(2) == [0, 1]\n",
    "# assert fibonacci(5) == [0, 1, 1, 2, 3]\n",
    "# assert fibonacci(0) == []\n",
    "# assert fibonacci(10) == [0, 1, 1, 2, 3, 5, 8, 13, 21, 34]\n",
    "\n",
    "def fibonacci(n):\n",
    "    if n == 0:\n",
    "        return []\n",
    "    elif n == 1:\n",
    "        return [0]\n",
    "    fib = [0, 1]\n",
    "    for i in range(2, n):\n",
    "        fib.append(fib[-1] + fib[-2])\n",
    "    return fib\n",
    "print(fibonacci(6))\n",
    "print(fibonacci(10))"
   ]
  },
  {
   "cell_type": "code",
   "execution_count": 42,
   "id": "a2ea49a5",
   "metadata": {},
   "outputs": [
    {
     "name": "stdout",
     "output_type": "stream",
     "text": [
      "24\n",
      "1\n",
      "1\n",
      "3628800\n"
     ]
    }
   ],
   "source": [
    "# Write a function factorial(n) that returns the factorial of a non-negative integer n.\n",
    "\n",
    "def factorial(n):\n",
    "    if n==0:\n",
    "        return 1\n",
    "    result=1\n",
    "    for i in range(1, n+1):\n",
    "        result *= i\n",
    "    return result\n",
    "    \n",
    "print(factorial(4))\n",
    "print(factorial(1))\n",
    "print(factorial(0))\n",
    "print(factorial(10))\n",
    "\n",
    "    "
   ]
  },
  {
   "cell_type": "code",
   "execution_count": 47,
   "id": "a4cc8465",
   "metadata": {},
   "outputs": [
    {
     "name": "stdout",
     "output_type": "stream",
     "text": [
      "5\n",
      "122\n",
      "56\n",
      "51\n"
     ]
    }
   ],
   "source": [
    "# Write a function find_max(lst) that takes a list of numbers lst and returns the maximum number in the list.\n",
    "\n",
    "def find_max(lst):\n",
    "    if not lst:\n",
    "        return None\n",
    "    max_num = lst[0]\n",
    "    for num in lst:\n",
    "        if num > max_num:\n",
    "            max_num = num\n",
    "    return max_num\n",
    "\n",
    "print(find_max([1,2,3,4,5]))\n",
    "print(find_max([122,22,23,24,25]))\n",
    "print(find_max([11,23,3,45,56]))\n",
    "print(find_max([12,23,31,41,51]))\n",
    "\n",
    "        "
   ]
  },
  {
   "cell_type": "code",
   "execution_count": 50,
   "id": "b3f474d3",
   "metadata": {},
   "outputs": [
    {
     "name": "stdout",
     "output_type": "stream",
     "text": [
      "2\n",
      "2\n",
      "2\n"
     ]
    }
   ],
   "source": [
    "# Write a function count_vowels(s) that takes a string s and returns the number of vowels in the string.\n",
    "\n",
    "def count_vowels(s):\n",
    "    vowels = 'aeiouAEIOU'\n",
    "    return sum(1 for char in s if char in vowels)\n",
    "    \n",
    "print(count_vowels('Omkar'))\n",
    "print(count_vowels('vilas'))\n",
    "print(count_vowels('dighe'))\n"
   ]
  },
  {
   "cell_type": "code",
   "execution_count": 52,
   "id": "3b574646",
   "metadata": {},
   "outputs": [
    {
     "name": "stdout",
     "output_type": "stream",
     "text": [
      "15\n"
     ]
    }
   ],
   "source": [
    "# Write a function sum_list(lst) that takes a list of numbers lst and returns the sum of the elements.\n",
    "\n",
    "def sum_list(lst):\n",
    "    return sum(lst)\n",
    "\n",
    "print(sum_list([1,2,3,4,5]))"
   ]
  },
  {
   "cell_type": "code",
   "execution_count": 58,
   "id": "10bd2ac4",
   "metadata": {},
   "outputs": [
    {
     "data": {
      "text/plain": [
       "[1, 2, 3, 4, 5, 6]"
      ]
     },
     "execution_count": 58,
     "metadata": {},
     "output_type": "execute_result"
    }
   ],
   "source": [
    "# Write a function merge_sorted_lists(lst1, lst2) that takes two sorted lists lst1 and lst2, and returns a single sorted list by merging them.\n",
    "\n",
    "def merge_sorted_lists(lst1, lst2):\n",
    "    merged_list = []\n",
    "    i, j = 0, 0\n",
    "\n",
    "    # Continue until one of the lists is exhausted\n",
    "    while i < len(lst1) and j < len(lst2):\n",
    "        if lst1[i] < lst2[j]:\n",
    "            merged_list.append(lst1[i])\n",
    "            i += 1\n",
    "        else:\n",
    "            merged_list.append(lst2[j])\n",
    "            j += 1\n",
    "\n",
    "    # Append any remaining elements from lst1\n",
    "    while i < len(lst1):\n",
    "        merged_list.append(lst1[i])\n",
    "        i += 1\n",
    "\n",
    "    # Append any remaining elements from lst2\n",
    "    while j < len(lst2):\n",
    "        merged_list.append(lst2[j])\n",
    "        j += 1\n",
    "\n",
    "    return merged_list\n",
    "\n",
    "merge_sorted_lists([1, 3, 5], [2, 4, 6])"
   ]
  },
  {
   "cell_type": "code",
   "execution_count": 59,
   "id": "ff071ab3",
   "metadata": {},
   "outputs": [
    {
     "data": {
      "text/plain": [
       "[1, 2, 3]"
      ]
     },
     "execution_count": 59,
     "metadata": {},
     "output_type": "execute_result"
    }
   ],
   "source": [
    "#Write a function remove_duplicates(lst) that takes a list of numbers lst and returns a new list with duplicates removed.\n",
    "\n",
    "def remove_duplicates(lst):\n",
    "    return list(set(lst))\n",
    "\n",
    "remove_duplicates([1, 2, 3, 1, 2, 3]) "
   ]
  },
  {
   "cell_type": "code",
   "execution_count": 60,
   "id": "81b80eec",
   "metadata": {},
   "outputs": [
    {
     "data": {
      "text/plain": [
       "4"
      ]
     },
     "execution_count": 60,
     "metadata": {},
     "output_type": "execute_result"
    }
   ],
   "source": [
    "# Write a function second_largest(lst) that takes a list of numbers lst and returns the second largest number in the list.\n",
    "\n",
    "def second_largest(lst):\n",
    "    if len(lst) < 2:\n",
    "        return None\n",
    "    first = second = float('-inf')\n",
    "    for num in lst:\n",
    "        if num > first:\n",
    "            first, second = num, first\n",
    "        elif first > num > second:\n",
    "            second = num\n",
    "    return second if second != float('-inf') else None\n",
    "\n",
    "second_largest([1, 2, 3, 4, 5])"
   ]
  },
  {
   "cell_type": "code",
   "execution_count": null,
   "id": "f99227c9",
   "metadata": {},
   "outputs": [],
   "source": []
  }
 ],
 "metadata": {
  "kernelspec": {
   "display_name": "Python 3 (ipykernel)",
   "language": "python",
   "name": "python3"
  },
  "language_info": {
   "codemirror_mode": {
    "name": "ipython",
    "version": 3
   },
   "file_extension": ".py",
   "mimetype": "text/x-python",
   "name": "python",
   "nbconvert_exporter": "python",
   "pygments_lexer": "ipython3",
   "version": "3.10.9"
  }
 },
 "nbformat": 4,
 "nbformat_minor": 5
}
